{
 "cells": [
  {
   "cell_type": "markdown",
   "id": "bbe70a96",
   "metadata": {},
   "source": [
    "## Interval Analysis"
   ]
  },
  {
   "cell_type": "code",
   "execution_count": 2,
   "id": "6bbda12e",
   "metadata": {},
   "outputs": [
    {
     "data": {
      "text/plain": [
       "Sequential(\n",
       "  (0): Normalize()\n",
       "  (1): Net(\n",
       "    (fc): Linear(in_features=784, out_features=200, bias=True)\n",
       "    (fc2): Linear(in_features=200, out_features=10, bias=True)\n",
       "  )\n",
       ")"
      ]
     },
     "execution_count": 2,
     "metadata": {},
     "output_type": "execute_result"
    }
   ],
   "source": [
    "# !pip install tensorboardX\n",
    "\n",
    "import torch\n",
    "import torch.nn as nn\n",
    "import torch.optim as optim\n",
    "import torch.nn.functional as F\n",
    "import numpy as np\n",
    "import time\n",
    "import matplotlib.pyplot as plt\n",
    "\n",
    "from torchvision import datasets, transforms\n",
    "# from tensorboardX import SummaryWriter\n",
    "\n",
    "use_cuda = False\n",
    "device = torch.device(\"cuda\" if use_cuda else \"cpu\")\n",
    "batch_size = 64\n",
    "\n",
    "np.random.seed(42)\n",
    "torch.manual_seed(42)\n",
    "\n",
    "\n",
    "## Dataloaders\n",
    "train_dataset = datasets.MNIST('mnist_data/', train=True, download=True, transform=transforms.Compose(\n",
    "    [transforms.ToTensor()]\n",
    "))\n",
    "test_dataset = datasets.MNIST('mnist_data/', train=False, download=True, transform=transforms.Compose(\n",
    "    [transforms.ToTensor()]\n",
    "))\n",
    "\n",
    "train_loader = torch.utils.data.DataLoader(train_dataset, batch_size=batch_size, shuffle=True)\n",
    "test_loader = torch.utils.data.DataLoader(test_dataset, batch_size=batch_size, shuffle=False)\n",
    "\n",
    "## Simple NN. You can change this if you want. If you change it, mention the architectural details in your report.\n",
    "class Net(nn.Module):\n",
    "    def __init__(self):\n",
    "        super(Net, self).__init__()\n",
    "        self.fc = nn.Linear(28*28, 200)\n",
    "        self.fc2 = nn.Linear(200,10)\n",
    "\n",
    "    def forward(self, x):\n",
    "        x = x.view((-1, 28*28))\n",
    "        x = F.relu(self.fc(x))\n",
    "        x = self.fc2(x)\n",
    "        x = F.softmax(x, dim=-1) # added softmax for probabilities\n",
    "        return x\n",
    "\n",
    "class Normalize(nn.Module):\n",
    "    def forward(self, x):\n",
    "        return (x - 0.1307)/0.3081\n",
    "\n",
    "# Add the data normalization as a first \"layer\" to the network\n",
    "# this allows us to search for adverserial examples to the real image, rather than\n",
    "# to the normalized image\n",
    "model = nn.Sequential(Normalize(), Net())\n",
    "\n",
    "model = model.to(device)\n",
    "model.train()\n"
   ]
  },
  {
   "cell_type": "code",
   "execution_count": 4,
   "id": "0a6282f7",
   "metadata": {},
   "outputs": [],
   "source": [
    "def train_model(model, num_epochs):\n",
    "    criterion = nn.CrossEntropyLoss()\n",
    "    optimizer = optim.SGD(model.parameters(), lr=0.001, momentum=0.9)\n",
    "\n",
    "    for epoch in range(num_epochs):\n",
    "        model.train()\n",
    "        running_loss = 0.0\n",
    "        for i, data in enumerate(train_loader, 0):\n",
    "            images, labels = data\n",
    "            images, labels = images.to(device), labels.to(device)\n",
    "\n",
    "            optimizer.zero_grad()\n",
    "            outputs = model(images)\n",
    "            loss = criterion(outputs, labels)\n",
    "            loss.backward()\n",
    "            optimizer.step()\n",
    "\n",
    "            running_loss += loss.item()\n",
    "\n",
    "        print(f'Epoch {epoch+1}/{num_epochs}, Loss: {running_loss/len(train_loader):.3f}')\n",
    "\n",
    "def test_model(model):\n",
    "    model.eval()\n",
    "    with torch.no_grad():\n",
    "        correct = 0\n",
    "        total = 0\n",
    "        for data in test_loader:\n",
    "            images, labels = data\n",
    "            images, labels = images.to(device), labels.to(device)\n",
    "            outputs = model(images)\n",
    "            _, predicted = torch.max(outputs.data, 1)\n",
    "            total += labels.size(0)\n",
    "            correct += (predicted == labels).sum().item()\n",
    "        print(f'Accuracy on images: {100 * correct / total}')"
   ]
  },
  {
   "cell_type": "code",
   "execution_count": 8,
   "id": "72dd8bd6",
   "metadata": {},
   "outputs": [
    {
     "name": "stdout",
     "output_type": "stream",
     "text": [
      "Epoch 1/15, Loss: 1.538\n",
      "Epoch 2/15, Loss: 1.536\n",
      "Epoch 3/15, Loss: 1.535\n",
      "Epoch 4/15, Loss: 1.533\n",
      "Epoch 5/15, Loss: 1.531\n",
      "Epoch 6/15, Loss: 1.530\n",
      "Epoch 7/15, Loss: 1.529\n",
      "Epoch 8/15, Loss: 1.527\n",
      "Epoch 9/15, Loss: 1.526\n",
      "Epoch 10/15, Loss: 1.525\n",
      "Epoch 11/15, Loss: 1.524\n",
      "Epoch 12/15, Loss: 1.522\n",
      "Epoch 13/15, Loss: 1.521\n",
      "Epoch 14/15, Loss: 1.520\n",
      "Epoch 15/15, Loss: 1.519\n",
      "Accuracy on images: 94.64\n"
     ]
    }
   ],
   "source": [
    "train_model(model, 15)\n",
    "test_model(model)"
   ]
  },
  {
   "cell_type": "markdown",
   "id": "c7c23f92",
   "metadata": {},
   "source": [
    "### Write the interval analysis for the simple model"
   ]
  },
  {
   "cell_type": "code",
   "execution_count": 11,
   "id": "d97f7f25",
   "metadata": {},
   "outputs": [
    {
     "name": "stdout",
     "output_type": "stream",
     "text": [
      "ε=0.010 → Verified accuracy: 12.56%\n",
      "ε=0.020 → Verified accuracy: 0.14%\n",
      "ε=0.030 → Verified accuracy: 0.00%\n",
      "ε=0.040 → Verified accuracy: 0.00%\n",
      "ε=0.050 → Verified accuracy: 0.00%\n",
      "ε=0.060 → Verified accuracy: 0.00%\n",
      "ε=0.070 → Verified accuracy: 0.00%\n",
      "ε=0.080 → Verified accuracy: 0.00%\n",
      "ε=0.090 → Verified accuracy: 0.00%\n",
      "ε=0.100 → Verified accuracy: 0.00%\n"
     ]
    }
   ],
   "source": [
    "## TODO: Write the interval analysis for the simple model\n",
    "## you can use https://github.com/Zinoex/bound_propagation\n",
    "from bound_propagation import BoundModelFactory, HyperRectangle\n",
    "from bound_propagation.general import BoundModule\n",
    "from bound_propagation.bounds import IntervalBounds, LinearBounds\n",
    "    \n",
    "from bound_propagation import BoundModelFactory, HyperRectangle\n",
    "\n",
    "# Create a simple sequential model that bound_propagation can handle\n",
    "# Note: No Flatten layer - we'll flatten the input manually\n",
    "simple_model = nn.Sequential(\n",
    "    nn.Linear(28*28, 200),\n",
    "    nn.ReLU(),\n",
    "    nn.Linear(200, 10)\n",
    ")\n",
    "\n",
    "# Copy weights from the trained model\n",
    "mu = 0.1307\n",
    "sigma = 0.3081\n",
    "\n",
    "# Suppose simple_model is the Sequential model we built\n",
    "# simple_model[0] = nn.Linear(28*28, 200)\n",
    "\n",
    "with torch.no_grad():\n",
    "    W = model[1].fc.weight.clone()  # original trained weights\n",
    "    b = model[1].fc.bias.clone()\n",
    "\n",
    "    # Fold normalization into first layer\n",
    "    W_new = W / sigma\n",
    "    b_new = b - (W.sum(dim=1) * mu / sigma)\n",
    "\n",
    "    simple_model[0].weight.copy_(W_new)\n",
    "    simple_model[0].bias.copy_(b_new)\n",
    "\n",
    "    # Copy second layer normally \n",
    "    simple_model[2].weight.copy_(model[1].fc2.weight)\n",
    "    simple_model[2].bias.copy_(model[1].fc2.bias)\n",
    "\n",
    "simple_model = simple_model.to(device)\n",
    "simple_model.eval()\n",
    "\n",
    "# Convert model to bound-propagation capable model\n",
    "factory = BoundModelFactory()\n",
    "bound_model = factory.build(simple_model)\n",
    "\n",
    "def verify_with_boundprop(bound_model, test_loader, eps_list, device):\n",
    "    bound_model.eval()\n",
    "    verified_accs = []\n",
    "\n",
    "    for eps in eps_list:\n",
    "        total = 0\n",
    "        verified = 0\n",
    "\n",
    "        for images, labels in test_loader:\n",
    "            images, labels = images.to(device), labels.to(device)\n",
    "            images = images.view(images.size(0), -1)  # flatten manually\n",
    "\n",
    "            # Create L∞ bounds\n",
    "            input_bounds = HyperRectangle.from_eps(images, eps)\n",
    "\n",
    "            # Interval Bound Propagation\n",
    "            bounds = bound_model.ibp(input_bounds)\n",
    "            lower, upper = bounds.lower, bounds.upper\n",
    "\n",
    "            # Verification condition\n",
    "            for i in range(images.size(0)):\n",
    "                true = labels[i].item()\n",
    "                l_i, u_i = lower[i], upper[i]\n",
    "\n",
    "                if l_i[true] > u_i[torch.arange(10, device=device) != true].max():\n",
    "                    verified += 1\n",
    "                total += 1\n",
    "\n",
    "        acc = 100.0 * verified / total\n",
    "        verified_accs.append(acc)\n",
    "        print(f\"ε={eps:.3f} → Verified accuracy: {acc:.2f}%\")\n",
    "\n",
    "    return verified_accs\n",
    "\n",
    "eps_list = np.linspace(0.01, 0.1, 10)\n",
    "verified_accs = verify_with_boundprop(bound_model, test_loader, eps_list, device)\n"
   ]
  },
  {
   "cell_type": "code",
   "execution_count": 12,
   "id": "639c9942",
   "metadata": {},
   "outputs": [
    {
     "data": {
      "image/png": "[encoded data removed]",
      "text/plain": [
       "<Figure size 640x480 with 1 Axes>"
      ]
     },
     "metadata": {},
     "output_type": "display_data"
    }
   ],
   "source": [
    "# Plot\n",
    "import matplotlib.pyplot as plt\n",
    "plt.plot(eps_list, verified_accs, marker=\"o\")\n",
    "plt.xlabel(\"ε (l∞ radius)\")\n",
    "plt.ylabel(\"Verified accuracy (%)\")\n",
    "plt.title(\"IBP Verified Accuracy vs ε\")\n",
    "plt.show()"
   ]
  },
  {
   "cell_type": "code",
   "execution_count": 8,
   "id": "f3de2bc3",
   "metadata": {},
   "outputs": [
    {
     "data": {
      "image/png": "[encoded data removed]",
      "text/plain": [
       "<Figure size 640x480 with 1 Axes>"
      ]
     },
     "metadata": {},
     "output_type": "display_data"
    },
    {
     "data": {
      "image/png": "[encoded data removed]",
      "text/plain": [
       "<Figure size 640x480 with 1 Axes>"
      ]
     },
     "metadata": {},
     "output_type": "display_data"
    }
   ],
   "source": [
    "import matplotlib.pyplot as plt\n",
    "import random\n",
    "\n",
    "def generate_parallelogram(p1, p2, p3):\n",
    "    \"\"\"\n",
    "    Generates the vertices of a parallelogram given three consecutive vertices.\n",
    "    \n",
    "    Args:\n",
    "        p1 (tuple): The (x, y) coordinates of the first vertex.\n",
    "        p2 (tuple): The (x, y) coordinates of the second vertex.\n",
    "        p3 (tuple): The (x, y) coordinates of the third vertex.\n",
    "        \n",
    "    Returns:\n",
    "        tuple: A tuple containing the (x, y) coordinates of all four vertices.\n",
    "    \"\"\"\n",
    "    # Vector arithmetic to find the fourth vertex\n",
    "    # p4 = p1 + (p3 - p2)\n",
    "    p4 = (p1[0] + p3[0] - p2[0], p1[1] + p3[1] - p2[1])\n",
    "    \n",
    "    return [p1, p2, p3, p4, p1] # Return with p1 at the end to close the polygon\n",
    "\n",
    "# --- Example 1: Generate a parallelogram with custom coordinates ---\n",
    "p1_custom = (1, 1)\n",
    "p2_custom = (5, 2)\n",
    "p3_custom = (6, 5)\n",
    "parallelogram_custom = generate_parallelogram(p1_custom, p2_custom, p3_custom)\n",
    "x_custom, y_custom = zip(*parallelogram_custom)\n",
    "\n",
    "plt.figure()\n",
    "plt.plot(x_custom, y_custom, 'ro-') # 'ro-' creates red circles at vertices and a line\n",
    "plt.title('Custom Parallelogram')\n",
    "plt.grid(True)\n",
    "plt.axis('equal') # Set axis to be equal for true shape representation\n",
    "plt.show()\n",
    "\n",
    "# --- Example 2: Generate a parallelogram with random coordinates ---\n",
    "# Generate three random points\n",
    "p1_random = (1,0)\n",
    "p2_random = (3,4)\n",
    "p3_random = (7,6)\n",
    "\n",
    "parallelogram_random = generate_parallelogram(p1_random, p2_random, p3_random)\n",
    "x_random, y_random = zip(*parallelogram_random)\n",
    "\n",
    "plt.figure()\n",
    "plt.plot(x_random, y_random, 'bs-') # 'bs-' creates blue squares at vertices and a line\n",
    "plt.title('Random Parallelogram')\n",
    "plt.grid(True)\n",
    "plt.axis('equal')\n",
    "plt.show()\n"
   ]
  }
 ],
 "metadata": {
  "kernelspec": {
   "display_name": "pensieve",
   "language": "python",
   "name": "python3"
  },
  "language_info": {
   "codemirror_mode": {
    "name": "ipython",
    "version": 3
   },
   "file_extension": ".py",
   "mimetype": "text/x-python",
   "name": "python",
   "nbconvert_exporter": "python",
   "pygments_lexer": "ipython3",
   "version": "3.8.20"
  }
 },
 "nbformat": 4,
 "nbformat_minor": 5
}
